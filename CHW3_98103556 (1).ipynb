{
  "cells": [
    {
      "attachments": {},
      "cell_type": "markdown",
      "metadata": {
        "id": "MgWqYTfEBXpn"
      },
      "source": [
        "# ** Introduction to Machine Learning**\n",
        "### **Computer Homework 3**\n",
        "\n",
        "*Radmehr Karimian*\n",
        "\n",
        "*Student ID: 98103556*\n"
      ]
    },
    {
      "cell_type": "markdown",
      "metadata": {
        "id": "F9Fhb7XsCMQg"
      },
      "source": [
        "# Problem C5"
      ]
    },
    {
      "cell_type": "code",
      "execution_count": 13,
      "metadata": {
        "id": "ISx8IKvZ9Z5C"
      },
      "outputs": [],
      "source": [
        "# Libraries\n",
        "import torch\n",
        "import torch.nn as nn\n",
        "import torch.optim as optim\n",
        "import torch.nn.functional as F\n",
        "import numpy as np\n",
        "import torchvision\n",
        "from torchvision import *\n",
        "from torch.utils.data import Dataset, DataLoader\n",
        "import torchvision.transforms as transforms\n",
        "import matplotlib.pyplot as plt\n",
        "import time\n",
        "import copy\n",
        "import os\n",
        "%matplotlib inline\n",
        "import numpy as np\n",
        "import pandas as pd\n",
        "from sklearn.svm import SVC\n",
        "from sklearn.neighbors import KNeighborsClassifier\n",
        "from sklearn.metrics import *\n",
        "from sklearn.neighbors import KNeighborsClassifier\n",
        "from sklearn.tree import DecisionTreeClassifier\n",
        "import keras\n",
        "from keras.utils import np_utils\n",
        "from keras.models import Sequential\n",
        "from keras.layers import Dense, Dropout\n",
        "from keras.losses import categorical_crossentropy\n",
        "import tensorflow as tf\n",
        "from tensorflow import keras\n",
        "import matplotlib.pyplot as plt\n",
        "from numpy import linalg as LA\n",
        "import tensorflow as tf\n",
        "from tensorflow import keras\n",
        "import matplotlib.pyplot as plt"
      ]
    },
    {
      "cell_type": "code",
      "execution_count": 14,
      "metadata": {
        "colab": {
          "base_uri": "https://localhost:8080/"
        },
        "id": "VGdI8L5rOoEs",
        "outputId": "58f76f85-d60b-4ddf-9a24-2693cb496a5d"
      },
      "outputs": [
        {
          "name": "stdout",
          "output_type": "stream",
          "text": [
            "Mounted at /media/gdrive\n"
          ]
        }
      ],
      "source": [
        "from google.colab import drive\n",
        "drive.mount('/media/gdrive', force_remount=True)\n",
        "\n",
        "df = pd.read_csv(r'/media/gdrive/MyDrive/ML/CHW3/fashion-mnist.csv')\n",
        "raw_data = np.array(object=df)"
      ]
    },
    {
      "cell_type": "markdown",
      "metadata": {
        "id": "3nzdZi4vamH3"
      },
      "source": [
        "We use the given percentages to split the dataset. The features (value of the pixels) are normalized."
      ]
    },
    {
      "cell_type": "code",
      "execution_count": 18,
      "metadata": {
        "id": "wpUocFQpSuIt"
      },
      "outputs": [],
      "source": [
        "train_per = 0.50\n",
        "valid_per = 0.35\n",
        "test_per = 0.15\n",
        "\n",
        "# spliting labels and features\n",
        "n_feature = raw_data.shape[1]\n",
        "n_data = raw_data.shape[0]\n",
        "\n",
        "x = raw_data[:, 0:n_feature-1]/255.\n",
        "y = raw_data[:, n_feature-1].reshape(n_data,1)\n",
        "\n",
        "x_train = x[0:np.int(n_data*train_per), :]\n",
        "x_train2 = 255*x_train\n",
        "y_train = y[0:np.int(n_data*train_per), :]\n",
        "train_dataset = np.concatenate((x_train,y_train), axis=1)\n",
        "y_train = y_train.ravel()\n",
        "\n",
        "x_valid = x[np.int(n_data*train_per):np.int(n_data*(train_per+valid_per)), :]\n",
        "x_valid2 = 255*x_valid\n",
        "y_valid = y[np.int(n_data*train_per):np.int(n_data*(train_per+valid_per)), :]\n",
        "valid_dataset = np.concatenate((x_valid,y_valid), axis=1)\n",
        "y_valid = y_valid.ravel()\n",
        "\n",
        "x_test = x[np.int(n_data*(train_per+valid_per)):, :]\n",
        "x_test2 = 255*x_test\n",
        "y_test = y[np.int(n_data*(train_per+valid_per)):, :]\n",
        "test_dataset = np.concatenate((x_test,y_test), axis=1)\n",
        "y_test = y_test.ravel()\n",
        "\n"
      ]
    },
    {
      "cell_type": "markdown",
      "metadata": {
        "id": "Fsgx3MNQgaS_"
      },
      "source": [
        "## Method 1: SVM with Linear Kernel\n",
        "Using the SVC (Support Vector Classifier) function from the sklearn library, we create a model that classifies the data using the best fit hyperplane. We use the confusion_matrix and accuracy_score function to evaluate the predicted label vector."
      ]
    },
    {
      "cell_type": "code",
      "execution_count": 17,
      "metadata": {
        "id": "igdTuNPja7YC"
      },
      "outputs": [],
      "source": [
        "from sklearn.metrics import confusion_matrix"
      ]
    },
    {
      "cell_type": "code",
      "execution_count": 16,
      "metadata": {
        "colab": {
          "base_uri": "https://localhost:8080/"
        },
        "id": "sBf73JY0friK",
        "outputId": "828508b0-3a7e-403c-8a95-a2f38c19e09b"
      },
      "outputs": [
        {
          "name": "stdout",
          "output_type": "stream",
          "text": [
            "Confusion Matrix: \n",
            " [[263   4   8  11   0   0  35   0   5   0]\n",
            " [  5 337   1   5   0   0   0   0   0   0]\n",
            " [ 15   2 266   3  29   0  32   0   3   0]\n",
            " [ 26   9   6 279   8   0   5   0   1   0]\n",
            " [  3   1  53  21 241   0  39   0   2   0]\n",
            " [  0   0   0   0   1 275   0  17   2   2]\n",
            " [ 62   2  37  11  37   0 208   0   3   0]\n",
            " [  0   0   0   0   0  20   0 362   1  17]\n",
            " [  5   0   5   1   1   2  11   3 340   2]\n",
            " [  0   0   0   0   0  14   0  20   0 321]]\n",
            "\n",
            "Accuracy Score: \n",
            " 0.8262857142857143\n"
          ]
        }
      ],
      "source": [
        "#from sklearn.svm import SVC\n",
        "\n",
        "clf = SVC(kernel = 'linear')\n",
        "clf_trained_model = clf.fit(x_train, y_train)\n",
        "y_predicted = clf_trained_model.predict(x_valid)\n",
        "confusion_matrix_SVM_linear = confusion_matrix(y_valid, y_predicted)\n",
        "accuracy_SVM_linear = accuracy_score(y_valid, y_predicted)\n",
        "\n",
        "print('Confusion Matrix: \\n', confusion_matrix_SVM_linear)\n",
        "print('\\nAccuracy Score: \\n', accuracy_SVM_linear)"
      ]
    },
    {
      "cell_type": "markdown",
      "metadata": {
        "id": "W5eWfLd9lF59"
      },
      "source": [
        "## Method 2: SVM with Gaussian Kernel\n",
        "Unlike the previous part, in this method, we use the Gaussian Kernel to classify the data using the SVM algorithm. The optimum sigma in this method is about 3.7e-7 (for unnormalized pixel values). The following figure indicates the relation between accuracy and sigma."
      ]
    },
    {
      "cell_type": "code",
      "execution_count": 33,
      "metadata": {
        "colab": {
          "base_uri": "https://localhost:8080/",
          "height": 651
        },
        "id": "kdeS4o4Tliau",
        "outputId": "09439911-f33c-4055-9015-78b19f127194"
      },
      "outputs": [
        {
          "name": "stdout",
          "output_type": "stream",
          "text": [
            "For sigma =  3.727593720314938e-07\n",
            "Confusion Matrix: \n",
            "  [[278   2   2  12   0   0  26   0   6   0]\n",
            " [  3 331   2  11   0   0   1   0   0   0]\n",
            " [  7   0 279   5  32   0  26   0   1   0]\n",
            " [ 15   0   0 302  10   0   7   0   0   0]\n",
            " [  0   1  28  14 285   0  30   0   2   0]\n",
            " [  0   0   0   0   0 277   0  13   2   5]\n",
            " [ 69   1  37   9  29   0 211   0   4   0]\n",
            " [  0   0   0   0   0   9   0 376   1  14]\n",
            " [  1   0   3   1   2   2   4   2 354   1]\n",
            " [  0   0   0   0   0   6   0  18   0 331]]\n",
            "\n",
            "Accuracy Score: \n",
            " 0.864\n"
          ]
        },
        {
          "data": {
            "image/png": "[encoded data removed]",
            "text/plain": [
              "<Figure size 720x432 with 1 Axes>"
            ]
          },
          "metadata": {
            "needs_background": "light"
          },
          "output_type": "display_data"
        }
      ],
      "source": [
        "# from sklearn.svm import SVC\n",
        "\n",
        "sigmas = np.logspace(-10, -5, num = 15)\n",
        "accuracy_prediction = {}\n",
        "accuracies = []\n",
        "sigma_max = 0\n",
        "\n",
        "for sigma in sigmas:\n",
        "  clf = SVC(kernel = 'rbf', gamma = sigma)\n",
        "  clf_trained_model = clf.fit(x_train2, y_train)\n",
        "  y_predicted = clf_trained_model.predict(x_valid2)\n",
        "  accuracy = accuracy_score(y_valid, y_predicted)\n",
        "  accuracy_prediction[accuracy] = y_predicted\n",
        "  accuracies.append(accuracy)\n",
        "  if accuracy == max(accuracy_prediction.keys()):\n",
        "    sigma_max = sigma\n",
        "\n",
        "accuracy_max = max(accuracy_prediction.keys())\n",
        "y_predicted = accuracy_prediction.get(accuracy_max)\n",
        "accuracy_SVM_gaussian = accuracy_max\n",
        "\n",
        "confusion_matrix_SVM_gaussian = confusion_matrix(y_valid, y_predicted)\n",
        "print('For sigma = ', sigma_max)\n",
        "print('Confusion Matrix: \\n ', confusion_matrix_SVM_gaussian)\n",
        "print('\\nAccuracy Score: \\n', accuracy_max)\n",
        "\n",
        "import matplotlib.pyplot as plt\n",
        "plt.figure(figsize=(10, 6))\n",
        "plt.plot(list(sigmas), list(accuracies))\n",
        "plt.xlabel(\"sigma\")\n",
        "plt.ylabel(\"Accuracy\")\n",
        "plt.show()\n"
      ]
    },
    {
      "cell_type": "markdown",
      "metadata": {
        "id": "kl-zhoqMmMWg"
      },
      "source": [
        "## Method 3: K-Nearest Neighbor\n",
        "We use the KNeighborsClassifier function to classify the data using the K-Nearest Neighbor algorithm. The accuracy for different values of k is plotted in the figure. The optimum value of k is 4."
      ]
    },
    {
      "cell_type": "code",
      "execution_count": 36,
      "metadata": {
        "colab": {
          "base_uri": "https://localhost:8080/",
          "height": 648
        },
        "id": "9n1_dqsGmfsn",
        "outputId": "ad0f3a03-66c8-43a4-b5fe-f240a174b5fa"
      },
      "outputs": [
        {
          "name": "stdout",
          "output_type": "stream",
          "text": [
            "For k =  4\n",
            "Confusion Matrix: \n",
            "  [[281   2   6  10   1   0  22   0   4   0]\n",
            " [  6 327   4   9   0   0   2   0   0   0]\n",
            " [  7   0 245   3  44   0  50   0   1   0]\n",
            " [ 20   3   1 291  11   0   7   0   1   0]\n",
            " [  1   1  54  24 230   0  49   0   1   0]\n",
            " [  3   0   1   0   0 213   0  55   2  23]\n",
            " [ 94   1  51   5  42   0 164   1   2   0]\n",
            " [  0   0   0   0   0   6   0 370   0  24]\n",
            " [  2   0   8   6   5   1  11  10 323   4]\n",
            " [  0   0   0   0   0   3   0  14   0 338]]\n",
            "\n",
            "Accuracy Score: \n",
            " 0.8028571428571428\n"
          ]
        },
        {
          "data": {
            "image/png": "[encoded data removed]",
            "text/plain": [
              "<Figure size 720x432 with 1 Axes>"
            ]
          },
          "metadata": {
            "needs_background": "light"
          },
          "output_type": "display_data"
        }
      ],
      "source": [
        "# from sklearn.neighbors import KNeighborsClassifier\n",
        "\n",
        "ks = range(2, 15)\n",
        "accurecies = []\n",
        "\n",
        "for k in ks:\n",
        "    clf = KNeighborsClassifier(n_neighbors = k)\n",
        "    clf_trained_model = clf.fit(x_train, y_train)\n",
        "    y_predicted = clf_trained_model.predict(x_valid)\n",
        "    accuracy = accuracy_score(y_valid, y_predicted)\n",
        "    accurecies.append(accuracy)\n",
        "    if accuracy == max(accurecies):\n",
        "      k_best = k\n",
        "      y_predicted_best = y_predicted\n",
        "\n",
        "accuracy_KNearest = max(accurecies)\n",
        "confusion_matrix_KNearest = confusion_matrix(y_valid, y_predicted)\n",
        "print('For k = ', k_best)\n",
        "print('Confusion Matrix: \\n ', confusion_matrix_KNearest)\n",
        "print('\\nAccuracy Score: \\n', accuracy_KNearest)\n",
        "\n",
        "import matplotlib.pyplot as plt\n",
        "plt.figure(figsize=(10, 6))\n",
        "plt.plot(list(ks), list(accurecies))\n",
        "plt.xlabel(\"k\")\n",
        "plt.ylabel(\"Accuracy\")\n",
        "plt.show()\n"
      ]
    },
    {
      "cell_type": "markdown",
      "metadata": {
        "id": "zHyIBUSKmlau"
      },
      "source": [
        "## Method 4: Decision Tree\n",
        "Using the DecisionTreeClassifier function, we train the decision tree model for the training dataset which has the lowest accuracy score."
      ]
    },
    {
      "cell_type": "code",
      "execution_count": 49,
      "metadata": {
        "colab": {
          "base_uri": "https://localhost:8080/"
        },
        "id": "akp4ZW5Hmp50",
        "outputId": "aff2f33f-6842-4f42-c144-5640f82dc4c2"
      },
      "outputs": [
        {
          "name": "stdout",
          "output_type": "stream",
          "text": [
            "Confusion Matrix: \n",
            "  [[230   6   7  21   3   4  45   0   9   1]\n",
            " [  3 321   1  15   3   1   1   0   3   0]\n",
            " [ 13   2 221   6  49   1  51   1   6   0]\n",
            " [ 10  14   4 263  18   2  17   0   6   0]\n",
            " [  5   5  69  19 201   1  57   0   3   0]\n",
            " [  1   1   0   0   0 247   0  22   8  18]\n",
            " [ 59   7  55  13  52   2 167   0   5   0]\n",
            " [  0   0   0   0   0  34   1 317   2  46]\n",
            " [  7   1  17   3  10   8  10   5 304   5]\n",
            " [  0   0   0   1   1  20   0  27   0 306]]\n",
            "\n",
            "Accuracy Score: \n",
            " 0.7362857142857143\n"
          ]
        }
      ],
      "source": [
        "#from sklearn.tree import DecisionTreeClassifier\n",
        "\n",
        "clf = DecisionTreeClassifier()\n",
        "clf_trained_model = clf.fit(x_train, y_train)\n",
        "y_predicted = clf_trained_model.predict(x_valid)\n",
        "accuracy_tree = accuracy_score(y_valid, y_predicted)\n",
        "\n",
        "confusion_matrix_tree = confusion_matrix(y_valid, y_predicted)\n",
        "print('Confusion Matrix: \\n ', confusion_matrix_tree)\n",
        "print('\\nAccuracy Score: \\n', accuracy_tree)"
      ]
    },
    {
      "cell_type": "markdown",
      "metadata": {
        "id": "pPy0Kqvp-9VO"
      },
      "source": [
        "## Method 5: Neural Networks\n",
        "To create the desired Neural Networks, we add the following layers to keras.Sequential:\n",
        "\n",
        "\n",
        "```\n",
        "keras.layers.Input(shape=(28*28,))\n",
        "keras.layers.Dense(100, activation='relu')\n",
        "keras.layers.Dense(100, activation='relu')\n",
        "keras.layers.Dense(10, activation='softmax')\n",
        "```\n",
        "We also set the optimization method to SGD, the loss function to CategoricalCrossentropy using the following code:\n",
        "\n",
        "```\n",
        "model.compile( \n",
        "    optimizer='sgd', \n",
        "    loss=keras.losses.SparseCategoricalCrossentropy(),\n",
        "    metrics=['accuracy']\n",
        ")\n",
        "```\n"
      ]
    },
    {
      "cell_type": "code",
      "execution_count": null,
      "metadata": {
        "id": "9onS9Fb2LmRp"
      },
      "outputs": [],
      "source": [
        "import tensorflow as tf\n",
        "from tensorflow import keras\n",
        "import numpy as np"
      ]
    },
    {
      "cell_type": "code",
      "execution_count": 137,
      "metadata": {
        "colab": {
          "base_uri": "https://localhost:8080/"
        },
        "id": "pAiCENQiL9xL",
        "outputId": "e743520f-9a11-445d-a293-51e256c4a1b5"
      },
      "outputs": [
        {
          "name": "stdout",
          "output_type": "stream",
          "text": [
            "Model: \"sequential_10\"\n",
            "_________________________________________________________________\n",
            " Layer (type)                Output Shape              Param #   \n",
            "=================================================================\n",
            " dense_30 (Dense)            (None, 100)               78500     \n",
            "                                                                 \n",
            " dense_31 (Dense)            (None, 100)               10100     \n",
            "                                                                 \n",
            " dense_32 (Dense)            (None, 10)                1010      \n",
            "                                                                 \n",
            "=================================================================\n",
            "Total params: 89,610\n",
            "Trainable params: 89,610\n",
            "Non-trainable params: 0\n",
            "_________________________________________________________________\n"
          ]
        }
      ],
      "source": [
        "model = keras.Sequential([\n",
        "    keras.layers.Input(shape=(28*28,)),\n",
        "    keras.layers.Dense(100, activation='relu'),\n",
        "    keras.layers.Dense(100, activation='relu'),\n",
        "    keras.layers.Dense(10, activation='softmax')\n",
        "])\n",
        "\n",
        "model.compile( \n",
        "    optimizer='sgd', \n",
        "    loss=keras.losses.SparseCategoricalCrossentropy(),\n",
        "    metrics=['accuracy']\n",
        ")\n",
        "model.summary()\n",
        "n_epoch = 0;\n",
        "epochs = []\n",
        "accurecies_nn = []\n",
        "accurecies_nn_test = []"
      ]
    },
    {
      "cell_type": "markdown",
      "metadata": {
        "id": "bK5YT4Mbf_C9"
      },
      "source": [
        "We train our model using the fit function (for a reasonable number of epochs). The accuracy for the Validation and Test set for different epochs is plotted, and after 75 epochs, the accuracy score doesn't change drastically, and overfitting doesn't accrue as expected."
      ]
    },
    {
      "cell_type": "code",
      "execution_count": 151,
      "metadata": {
        "colab": {
          "base_uri": "https://localhost:8080/",
          "height": 839
        },
        "id": "tatyeEjgP3mb",
        "outputId": "82a6b2f1-82ae-4a2a-bb16-aa1ce5772cc0"
      },
      "outputs": [
        {
          "name": "stdout",
          "output_type": "stream",
          "text": [
            "Epoch 1/5\n",
            "157/157 [==============================] - 1s 5ms/step - loss: 0.0487 - accuracy: 0.9898 - val_loss: 0.6443 - val_accuracy: 0.8466\n",
            "Epoch 2/5\n",
            "157/157 [==============================] - 1s 5ms/step - loss: 0.0484 - accuracy: 0.9898 - val_loss: 0.6705 - val_accuracy: 0.8469\n",
            "Epoch 3/5\n",
            "157/157 [==============================] - 1s 6ms/step - loss: 0.0500 - accuracy: 0.9890 - val_loss: 0.6606 - val_accuracy: 0.8434\n",
            "Epoch 4/5\n",
            "157/157 [==============================] - 1s 5ms/step - loss: 0.0528 - accuracy: 0.9884 - val_loss: 0.6289 - val_accuracy: 0.8514\n",
            "Epoch 5/5\n",
            "157/157 [==============================] - 1s 6ms/step - loss: 0.0471 - accuracy: 0.9888 - val_loss: 0.6707 - val_accuracy: 0.8454\n",
            "\n",
            "After 200 epochs ...\n",
            "Confusion Matrix: \n",
            "  [[219   4   6  18   0   1  71   1   6   0]\n",
            " [  1 336   1   7   1   0   2   0   0   0]\n",
            " [  8   2 240   5  52   0  40   0   3   0]\n",
            " [  7   5   0 297  12   0  13   0   0   0]\n",
            " [  2   1  14  17 289   0  35   0   2   0]\n",
            " [  0   0   0   0   0 277   0  17   2   1]\n",
            " [ 35   1  16  12  39   0 254   0   3   0]\n",
            " [  0   0   0   0   0  12   0 378   0  10]\n",
            " [  7   0   1   2   3   5   5   3 343   1]\n",
            " [  0   0   0   0   0   7   0  20   2 326]]\n",
            "\n",
            "Accuracy Score: \n",
            " 0.8454285714285714\n"
          ]
        },
        {
          "data": {
            "image/png": "[encoded data removed]",
            "text/plain": [
              "<Figure size 720x432 with 1 Axes>"
            ]
          },
          "metadata": {
            "needs_background": "light"
          },
          "output_type": "display_data"
        }
      ],
      "source": [
        "for i in range(1,2):\n",
        "  model.fit(x_train, y_train, epochs=5, validation_data=(x_valid, y_valid))\n",
        "  n_epoch = n_epoch + 5\n",
        "  y_predicted = np.argmax(model.predict(x_valid), axis=1)\n",
        "  accuracy_nn = accuracy_score(y_valid, y_predicted)\n",
        "  epochs.append(n_epoch)\n",
        "  accurecies_nn.append(accuracy_nn)\n",
        "  y_predicted2 = np.argmax(model.predict(x_test), axis=1)\n",
        "  accuracy_nn2 = accuracy_score(y_test, y_predicted2)\n",
        "  accurecies_nn_test.append(accuracy_nn2)\n",
        "  if accuracy_nn == max(accurecies_nn):\n",
        "    best_model_nn = model\n",
        "\n",
        "confusion_matrix_nn = confusion_matrix(y_valid, y_predicted)\n",
        "print('\\nAfter',n_epoch,'epochs ...')\n",
        "print('Confusion Matrix: \\n ', confusion_matrix_nn)\n",
        "print('\\nAccuracy Score: \\n', accuracy_nn)\n",
        "\n",
        "import matplotlib.pyplot as plt\n",
        "plt.figure(figsize=(10, 6))\n",
        "plt.plot(list(epochs), list(accurecies_nn), label='Accuracy on Valid set')\n",
        "plt.plot(list(epochs), list(accurecies_nn_test), label='Accuracy on Test set')\n",
        "\n",
        "plt.xlabel(\"epochs\")\n",
        "plt.ylabel(\"Accuracy\")\n",
        "plt.legend()\n",
        "plt.show()"
      ]
    },
    {
      "cell_type": "markdown",
      "metadata": {
        "id": "DBaf4WSlhiAR"
      },
      "source": [
        "# Conclusion\n",
        "The Neural Network is one of the safest methods of classifying. Not only it has a good accuracy score for the Validation set (up to ~86%), but it can also have a high accuracy score for the Testing set (about ~85%). The value of accuracy score for the Validation and Testing sets are plotted in the previews part and The Confusion Matrix after 200 epochs has the following values:\n",
        "\n",
        "\n",
        "```\n",
        "Confusion Matrix: \n",
        "  [[219   4   6  18   0   1  71   1   6   0]\n",
        "  [  1 336   1   7   1   0   2   0   0   0]\n",
        "  [  8   2 240   5  52   0  40   0   3   0]\n",
        "  [  7   5   0 297  12   0  13   0   0   0]\n",
        "  [  2   1  14  17 289   0  35   0   2   0]\n",
        "  [  0   0   0   0   0 277   0  17   2   1]\n",
        "  [ 35   1  16  12  39   0 254   0   3   0]\n",
        "  [  0   0   0   0   0  12   0 378   0  10]\n",
        "  [  7   0   1   2   3   5   5   3 343   1]\n",
        "  [  0   0   0   0   0   7   0  20   2 326]]\n",
        "```\n",
        "\n",
        "Finding the optimum sigma for the SVM with Gaussian Kernel is challenging, but for sigma =  3.72e-07 (for unnormalized pixel features), we can have the following results:\n"
      ]
    },
    {
      "cell_type": "code",
      "execution_count": 19,
      "metadata": {
        "colab": {
          "base_uri": "https://localhost:8080/"
        },
        "id": "bQX4js2pkyYH",
        "outputId": "85f0b2e7-1768-467d-f290-201fc158beba"
      },
      "outputs": [
        {
          "name": "stdout",
          "output_type": "stream",
          "text": [
            "For Validation set:\n",
            "Confusion Matrix: \n",
            "  [[278   2   2  12   0   0  26   0   6   0]\n",
            " [  3 331   2  11   0   0   1   0   0   0]\n",
            " [  7   0 279   5  32   0  26   0   1   0]\n",
            " [ 15   0   0 302  10   0   7   0   0   0]\n",
            " [  0   1  28  14 285   0  30   0   2   0]\n",
            " [  0   0   0   0   0 277   0  13   2   5]\n",
            " [ 69   1  37   9  29   0 211   0   4   0]\n",
            " [  0   0   0   0   0   9   0 376   1  14]\n",
            " [  1   0   3   1   2   2   4   2 354   1]\n",
            " [  0   0   0   0   0   6   0  18   0 331]]\n",
            "\n",
            "Accuracy Score: \n",
            " 0.864\n",
            "For Testing set:\n",
            "Confusion Matrix: \n",
            "  [[127   0   0   9   0   0  10   0   2   0]\n",
            " [  3 128   3   7   1   0   0   0   2   0]\n",
            " [  0   0 123   2  22   0  16   0   0   0]\n",
            " [  7   1   0 133   3   0   4   0   0   0]\n",
            " [  2   0   7   4 126   0  19   0   1   0]\n",
            " [  1   0   0   0   0 126   0  10   1   2]\n",
            " [ 32   0  16   4  11   0  88   0   0   0]\n",
            " [  0   0   0   0   0   4   0 149   0   2]\n",
            " [  0   0   2   0   0   2   3   1 132   0]\n",
            " [  0   0   0   0   0   4   0   5   0 143]]\n",
            "\n",
            "Accuracy Score: \n",
            " 0.85\n"
          ]
        }
      ],
      "source": [
        "from sklearn.svm import SVC\n",
        "\n",
        "sigma = 3.72e-07\n",
        "\n",
        "clf = SVC(kernel = 'rbf', gamma = sigma)\n",
        "clf_trained_model = clf.fit(x_train2, y_train)\n",
        "y_predicted = clf_trained_model.predict(x_valid2)\n",
        "accuracy_validation = accuracy_score(y_valid, y_predicted)\n",
        "\n",
        "confusion_matrix_SVM_gaussian = confusion_matrix(y_valid, y_predicted)\n",
        "print('For Validation set:')\n",
        "print('Confusion Matrix: \\n ', confusion_matrix_SVM_gaussian)\n",
        "print('\\nAccuracy Score: \\n', accuracy_validation)\n",
        "\n",
        "y_predicted = clf_trained_model.predict(x_test2)\n",
        "accuracy_test = accuracy_score(y_test, y_predicted)\n",
        "\n",
        "confusion_matrix_SVM_gaussian = confusion_matrix(y_test, y_predicted)\n",
        "print('For Testing set:')\n",
        "print('Confusion Matrix: \\n ', confusion_matrix_SVM_gaussian)\n",
        "print('\\nAccuracy Score: \\n', accuracy_test)\n"
      ]
    }
  ],
  "metadata": {
    "accelerator": "GPU",
    "colab": {
      "collapsed_sections": [],
      "name": "CHW3_98101769.ipynb",
      "provenance": []
    },
    "kernelspec": {
      "display_name": "Python 3",
      "name": "python3"
    },
    "language_info": {
      "name": "python"
    }
  },
  "nbformat": 4,
  "nbformat_minor": 0
}
