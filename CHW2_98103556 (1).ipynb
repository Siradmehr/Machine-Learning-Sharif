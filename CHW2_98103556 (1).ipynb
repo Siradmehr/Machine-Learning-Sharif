{
  "cells": [
    {
      "cell_type": "markdown",
      "metadata": {
        "id": "cDIlxSu51XpP"
      },
      "source": [
        "# **EE25737: Introduction to Machine Learning**\n",
        "### **Computer Homework 2**\n",
        "\n",
        "*Radmehr Karimian*\n",
        "\n",
        "*Student ID: 98103556*"
      ]
    },
    {
      "cell_type": "markdown",
      "metadata": {
        "id": "8CrFBUNS5sxd"
      },
      "source": [
        "## Problem C3: Linear Classification"
      ]
    },
    {
      "cell_type": "code",
      "execution_count": 345,
      "metadata": {
        "id": "JcF8x98-1PyX"
      },
      "outputs": [],
      "source": [
        "import numpy as np\n",
        "import pandas as pd\n",
        "import matplotlib.pyplot as plt"
      ]
    },
    {
      "cell_type": "markdown",
      "metadata": {
        "id": "EIgm1oTa6uk2"
      },
      "source": [
        "### A. Load Data\n",
        "Using the read_csv() function from pandas library, we extract data from data_banknote_authentication.csv (which has the DataFrame data type) and then transform it to numpy array:"
      ]
    },
    {
      "cell_type": "code",
      "execution_count": 346,
      "metadata": {
        "colab": {
          "base_uri": "https://localhost:8080/"
        },
        "id": "qe7FL7_N7aW5",
        "outputId": "57a0382a-c744-4d47-f606-e77a6caf0b24"
      },
      "outputs": [
        {
          "name": "stdout",
          "output_type": "stream",
          "text": [
            "Mounted at /media/gdrive\n"
          ]
        }
      ],
      "source": [
        "from google.colab import drive\n",
        "drive.mount('/media/gdrive', force_remount=True)\n",
        "\n",
        "df = pd.read_csv(r'/media/gdrive/MyDrive/ML/CHW2/data_banknote_authentication.csv')\n",
        "raw_data = np.array(object=df)\n"
      ]
    },
    {
      "cell_type": "code",
      "execution_count": 350,
      "metadata": {
        "id": "EgIWdEr0FJSR"
      },
      "outputs": [],
      "source": [
        "# spliting labels and features\n",
        "n = raw_data.shape[0]\n",
        "X = raw_data[:, 0:4]\n",
        "Y = raw_data[:, 4].reshape(n,1)\n",
        "\n",
        "# spliting the sets\n",
        "X_train = X[0:np.int(n*0.8),:]\n",
        "Y_train = Y[0:np.int(n*0.8),0].reshape(np.int(n*0.8),1)\n",
        "\n",
        "X_test = X[np.int(n*0.8):,:]\n",
        "Y_test = Y[np.int(n*0.8):,0].reshape(n-np.int(n*0.8),1)\n"
      ]
    },
    {
      "cell_type": "markdown",
      "metadata": {
        "id": "fS78hhCI6x2a"
      },
      "source": [
        "### B. Perceptron Algorithm\n",
        "The following function is used to determine the loss. Note that the default value for the labels in calculations are 1 and -1 (d = abs(1 - (-1)) = 2)."
      ]
    },
    {
      "cell_type": "code",
      "execution_count": 352,
      "metadata": {
        "id": "Yk0eo5RONiiS"
      },
      "outputs": [],
      "source": [
        "def loss(Y_predicted, Y, d=2):\n",
        "  return sum(((Y_predicted.ravel()-Y.ravel())/d)**2)/((Y.shape)[0])"
      ]
    },
    {
      "cell_type": "markdown",
      "metadata": {
        "id": "3avcmgmqbKjL"
      },
      "source": [
        "First, we add one dimention with constant 1 to each data point in order to make the training set homogenous and solve a linear classification problem (instead of an affine problem):\n"
      ]
    },
    {
      "cell_type": "code",
      "execution_count": 425,
      "metadata": {
        "id": "20sDbKM7jjyh"
      },
      "outputs": [],
      "source": [
        "X_tr = np.concatenate((np.ones(shape=((X_train.shape)[0],1)), X_train), axis=1)\n",
        "X_te = np.concatenate((np.ones(shape=((X_test.shape)[0],1)), X_test), axis=1)"
      ]
    },
    {
      "cell_type": "markdown",
      "metadata": {
        "id": "8-FD-K3Kjm_w"
      },
      "source": [
        "To classify the set using Perceptron algorithm, we follow these steps:\n",
        "\n",
        "1. Initialize the weights. Weights may be initialized to 0 or to a small random value.\n",
        "\n",
        "2. For each data point, we predict the label using the calculated weights and compare it with the actual label. The algorithm converges if the predicted label vactor and the actual label are identical, otherwise we recalculate the weight vector for the next iteration:\n",
        "\n",
        "w(t+1) = w(t) + x_i*y_i\n",
        "\n",
        "where (x_i,y_i) is the mispredicted datapoint.\n",
        "\n",
        "The Perceptron algorithm is a linear classifier, therefore it will never get to the state with all the input vectors classified correctly if the training set is not linearly separable."
      ]
    },
    {
      "cell_type": "code",
      "execution_count": 424,
      "metadata": {
        "id": "egE6RZnsLOjJ"
      },
      "outputs": [],
      "source": [
        "def perceptron(X_tr, Y_tr, X_te, Y_te, max_iter=50000):\n",
        "  w = np.zeros(shape=((X_tr.shape)[1],1))\n",
        "  loss_history_train = list()\n",
        "  loss_history_test = list()\n",
        "  final_i = max_iter;\n",
        "  counter = 0;\n",
        "\n",
        "  for i in range(1,max_iter+1,1):\n",
        "    Y_predicted = np.sign(np.matmul(X_tr, w))\n",
        "    index_wrong = (np.where( (Y_predicted-Y_tr) != 0))[0] # row of wrong predictions\n",
        "    if (index_wrong.shape[0] != 0): # checking if there is any wrong predictions\n",
        "      index = index_wrong[0]\n",
        "      w = w + Y_tr[index,0]*(X_tr[index,:].reshape(((X_tr.shape)[1],1)))\n",
        "    else:\n",
        "      final_i = min(i, final_i);\n",
        "    if (i%500 == 0):\n",
        "      Y_predicted = np.sign(np.matmul(X_tr, w))\n",
        "      l_train = loss(Y_predicted,Y_tr);\n",
        "      loss_history_train.append(l_train)\n",
        "      Y_predicted_test = np.sign(np.matmul(X_te, w))\n",
        "      l_test = loss(Y_predicted_test,Y_te)\n",
        "      loss_history_test.append(l_test)\n",
        "      #if (index_wrong.shape[0] == 0):\n",
        "        #counter = counter +1;\n",
        "    #if counter == 5 :\n",
        "      #break\n",
        "\n",
        "  print('The algorithm stops at', final_i, 'th iteration.')\n",
        "  print('The final error on the train set is', l_train)\n",
        "  print('The final error on the test set is', l_test)\n",
        "  print('The final weight vector is:', np.transpose(w))\n",
        "  return w, loss_history_train, loss_history_test"
      ]
    },
    {
      "cell_type": "code",
      "execution_count": 426,
      "metadata": {
        "colab": {
          "base_uri": "https://localhost:8080/"
        },
        "id": "1o8QyOLZqiIH",
        "outputId": "36b7be5f-8193-4b54-846f-8b9cdbdfcfa9"
      },
      "outputs": [
        {
          "name": "stdout",
          "output_type": "stream",
          "text": [
            "The algorithm stops at 39868 th iteration.\n",
            "The final error on the train set is 0.0\n",
            "The final error on the test set is 0.01818181818181818\n",
            "The final weight vector is: [[ 475.         201.50565   -109.4033456   39.19858   1339.065463 ]]\n"
          ]
        }
      ],
      "source": [
        "# running the algorithm\n",
        "w, loss_history_train, loss_history_test = perceptron(X_tr=X_tr, Y_tr=Y_train, X_te=X_te, Y_te=Y_test)"
      ]
    },
    {
      "cell_type": "code",
      "execution_count": 427,
      "metadata": {
        "colab": {
          "base_uri": "https://localhost:8080/",
          "height": 388
        },
        "id": "Vf_6pl2xiFXb",
        "outputId": "82fef3b7-1caf-44e3-dfbc-e9405350dced"
      },
      "outputs": [
        {
          "data": {
            "image/png": "[encoded data removed]",
            "text/plain": [
              "<Figure size 720x432 with 1 Axes>"
            ]
          },
          "metadata": {
            "needs_background": "light"
          },
          "output_type": "display_data"
        }
      ],
      "source": [
        "# plotting the results\n",
        "plt.figure(figsize=(10, 6))\n",
        "N = [t for t in range(1, 500*len(loss_history_train), 500)]\n",
        "plt.plot(N, loss_history_train, c='b', label='Train Set')\n",
        "plt.plot(N, loss_history_test, c='r', label='Test Set')\n",
        "plt.xlabel(\"Iteration\")\n",
        "plt.ylabel(\"Error\")\n",
        "plt.legend()\n",
        "plt.show()"
      ]
    },
    {
      "cell_type": "markdown",
      "metadata": {
        "id": "nuIa24w762rn"
      },
      "source": [
        "### C. Generalize to Non-linear Classification"
      ]
    },
    {
      "cell_type": "code",
      "execution_count": 428,
      "metadata": {
        "id": "A797EMGIqtH_"
      },
      "outputs": [],
      "source": [
        "# mapping the data\n",
        "X_tr = np.concatenate((np.ones(shape=((X_train.shape)[0],1)), X_train, (X_train[:,3]**3).reshape((X_train.shape)[0],1) ), axis=1)\n",
        "X_te = np.concatenate((np.ones(shape=((X_test.shape)[0],1)), X_test, (X_test[:,3]**3).reshape((X_test.shape)[0],1)), axis=1)"
      ]
    },
    {
      "cell_type": "code",
      "execution_count": 431,
      "metadata": {
        "colab": {
          "base_uri": "https://localhost:8080/"
        },
        "id": "u0Y4lHBYqs9r",
        "outputId": "97fd1374-07d3-4420-d0c5-0b84aa5921de"
      },
      "outputs": [
        {
          "name": "stdout",
          "output_type": "stream",
          "text": [
            "The algorithm stops at 3597 th iteration.\n",
            "The final error on the train set is 0.0\n",
            "The final error on the test set is 0.0036363636363636364\n",
            "The final weight vector is: [[124.          70.00977    -40.2268496   10.69197    318.63396\n",
            "   64.32316951]]\n"
          ]
        }
      ],
      "source": [
        "# running the algorithm\n",
        "w, loss_history_train, loss_history_test = perceptron(X_tr=X_tr, Y_tr=Y_train, X_te=X_te, Y_te=Y_test)"
      ]
    },
    {
      "cell_type": "code",
      "execution_count": 430,
      "metadata": {
        "colab": {
          "base_uri": "https://localhost:8080/",
          "height": 388
        },
        "id": "OQeJW0FJnzVC",
        "outputId": "88d542e7-346f-4cb4-ad1a-629142d4b383"
      },
      "outputs": [
        {
          "data": {
            "image/png": "[encoded data removed]",
            "text/plain": [
              "<Figure size 720x432 with 1 Axes>"
            ]
          },
          "metadata": {
            "needs_background": "light"
          },
          "output_type": "display_data"
        }
      ],
      "source": [
        "# plotting the results\n",
        "plt.figure(figsize=(10, 6))\n",
        "N = [t for t in range(1, 500*len(loss_history_train), 500)]\n",
        "plt.plot(N, loss_history_train, c='b', label='Train Set')\n",
        "plt.plot(N, loss_history_test, c='r', label='Test Set')\n",
        "plt.xlabel(\"Iteration\")\n",
        "plt.ylabel(\"Error\")\n",
        "plt.legend()\n",
        "plt.show()"
      ]
    },
    {
      "cell_type": "markdown",
      "metadata": {
        "id": "0UJBoTU56_8C"
      },
      "source": [
        "### D. SVM Algorithm "
      ]
    },
    {
      "cell_type": "code",
      "execution_count": 438,
      "metadata": {
        "id": "FB6Ceg--ugCA"
      },
      "outputs": [],
      "source": [
        "from sklearn import svm"
      ]
    },
    {
      "cell_type": "code",
      "execution_count": 439,
      "metadata": {
        "colab": {
          "base_uri": "https://localhost:8080/"
        },
        "id": "GtRLcuaevtmG",
        "outputId": "ce4124a7-134e-4488-ce20-872eadcb9e8b"
      },
      "outputs": [
        {
          "name": "stdout",
          "output_type": "stream",
          "text": [
            "The final error on the train set is 0.003825184664087232\n",
            "The final error on the test set is 0.06396063960639606\n",
            "The final weights are:\n",
            " [7.00032876] (for constant value)\n",
            " [[ 3.38820683e-05  6.77103699e-05 -4.87257570e-05  1.99989839e+00\n",
            "  -2.25862703e-04 -1.95399252e-14 -6.00169717e+00  6.00195748e+00\n",
            "  -1.51251030e-05 -3.99870565e+00 -4.00020194e+00 -2.00197752e+00\n",
            "  -9.99314330e-01  1.45866777e-05  1.79823632e-05  0.00000000e+00\n",
            "  -3.90798505e-14 -1.99733633e+00  1.50039014e+00 -3.56518383e-04\n",
            "  -2.80533327e-04 -1.04525686e-05]] (coefs for features)\n"
          ]
        }
      ],
      "source": [
        "# linear kernel\n",
        "model = svm.SVC(kernel='linear') \n",
        "\n",
        "# training the model using the training sets\n",
        "model.fit(X_train, Y_train.ravel())\n",
        "\n",
        "# [model.intercept_, model.coef_]\n",
        "\n",
        "l_train = loss(model.predict(X_train),Y_train)\n",
        "l_test = loss(model.predict(X_test),Y_test)\n",
        "print('The final error on the train set is', l_train)\n",
        "print('The final error on the test set is', l_test)\n",
        "print('The final weights are:\\n', model.intercept_, '(for constant value)\\n',\n",
        "      model.coef_, '(coefs for features)')\n"
      ]
    },
    {
      "cell_type": "markdown",
      "metadata": {
        "id": "vVdOlf_l7ETA"
      },
      "source": [
        "### E. Conclusion\n",
        "The training set is linearly separable, so the error on the train set equals to zero (the algorithm coverges).\n",
        "\n",
        "The error on the test set is the least for the generalized classification and the SVM output model is better than the first model (linear classification using perceptron algorithm), because it searches for an optimal model (not only the model which has the correct output) and in result, the error for the training set is less for the first model but the error for the test set is less for the SVM model.\n",
        "\n",
        "\n"
      ]
    },
    {
      "cell_type": "markdown",
      "metadata": {
        "id": "6g3_FMgV6M0L"
      },
      "source": [
        "## Problem C4: Decision Trees"
      ]
    },
    {
      "cell_type": "code",
      "execution_count": 432,
      "metadata": {
        "id": "fQuS2BUwGqCj"
      },
      "outputs": [],
      "source": [
        "import numpy as np\n",
        "import pandas as pd\n",
        "import matplotlib.pyplot as plt"
      ]
    },
    {
      "cell_type": "markdown",
      "metadata": {
        "id": "C0RRE2487Hx6"
      },
      "source": [
        "### A. Load Data\n",
        "Using the read_csv() function from pandas library, we extract data from mushrooms.csv (which has the DataFrame data type) and then transform it to numpy array:"
      ]
    },
    {
      "cell_type": "code",
      "execution_count": 434,
      "metadata": {
        "colab": {
          "base_uri": "https://localhost:8080/"
        },
        "id": "-l4BVkp-GnQ4",
        "outputId": "3ea5ec6b-e719-4e45-8df2-8f4865713cef"
      },
      "outputs": [
        {
          "name": "stdout",
          "output_type": "stream",
          "text": [
            "Mounted at /media/gdrive\n"
          ]
        }
      ],
      "source": [
        "from google.colab import drive\n",
        "drive.mount('/media/gdrive', force_remount=True)\n",
        "\n",
        "df = pd.read_csv(r'/media/gdrive/MyDrive/ML/CHW2/mushrooms.csv')\n",
        "raw_data2 = np.array(object=df)"
      ]
    },
    {
      "cell_type": "code",
      "execution_count": 440,
      "metadata": {
        "id": "3MM3f7XPHJrz"
      },
      "outputs": [],
      "source": [
        "# spliting labels and features\n",
        "n = raw_data2.shape[0]\n",
        "X = raw_data2[:, 1:]\n",
        "Y = raw_data2[:, 0].reshape(n,1)\n",
        "\n",
        "# spliting the sets\n",
        "X_train = X[0:np.int(n*0.7),:]\n",
        "Y_train = Y[0:np.int(n*0.7),0].reshape(X_train.shape[0],1)\n",
        "\n",
        "X_val = X[np.int(n*0.7):np.int(n*0.9),:]\n",
        "Y_val = Y[np.int(n*0.7):np.int(n*0.9),0].reshape(X_val.shape[0],1)\n",
        "\n",
        "X_test = X[np.int(n*0.9):,:]\n",
        "Y_test = Y[np.int(n*0.9):,0].reshape(X_test.shape[0],1)\n"
      ]
    },
    {
      "cell_type": "markdown",
      "metadata": {
        "id": "rIUsQgic7NVV"
      },
      "source": [
        "### B. Train Desicion Tree\n",
        "As you can see in the figure, the maximum depth doesn't effect the loss after a certain number (max_depth = 6). The more the maximum depth is, the more complex model is achievable, but a certain level of complexity is enough for us to reach the optimum model, so the possibility for a more complex model doesn't effect the loss.\n",
        "\n",
        "*The random_state is a fixed value for all of the models in order to compare the effect of max_depth correctly.*"
      ]
    },
    {
      "cell_type": "code",
      "execution_count": 441,
      "metadata": {
        "id": "LVZZp3fmMKKc"
      },
      "outputs": [],
      "source": [
        "from sklearn.tree import DecisionTreeClassifier"
      ]
    },
    {
      "cell_type": "code",
      "execution_count": 465,
      "metadata": {
        "id": "ygldkvW1KFKX"
      },
      "outputs": [],
      "source": [
        "depth_tree = [t for t in range(4, 21, 2)]\n",
        "loss_train, loss_val, loss_test = list(), list(), list();\n",
        "for d in depth_tree:\n",
        "  model = DecisionTreeClassifier(max_depth=d, random_state=7)\n",
        "  model = model.fit(X_train,Y_train)\n",
        "  y_predicted = model.predict(X_test)\n",
        "  loss_train.append(loss(model.predict(X_train), Y_train, 1))\n",
        "  loss_val.append(loss(model.predict(X_val), Y_val, 1))\n",
        "  loss_test.append(loss(model.predict(X_test), Y_test, 1))\n"
      ]
    },
    {
      "cell_type": "code",
      "execution_count": 464,
      "metadata": {
        "colab": {
          "base_uri": "https://localhost:8080/",
          "height": 388
        },
        "id": "0cUkw_zZVJyt",
        "outputId": "ad7a86e4-175f-4d84-f177-033d764481cc"
      },
      "outputs": [
        {
          "data": {
            "image/png": "[encoded data removed]",
            "text/plain": [
              "<Figure size 720x432 with 1 Axes>"
            ]
          },
          "metadata": {
            "needs_background": "light"
          },
          "output_type": "display_data"
        }
      ],
      "source": [
        "plt.figure(figsize=(10, 6))\n",
        "plt.plot(depth_tree, loss_train, c='b', label='Train Set')\n",
        "plt.plot(depth_tree, loss_val, c='r', label='Validation Set')\n",
        "plt.plot(depth_tree, loss_test, c='g', label='Test Set')\n",
        "plt.xlabel(\"Maximum depth\")\n",
        "plt.ylabel(\"Error\")\n",
        "plt.legend()\n",
        "plt.show()"
      ]
    }
  ],
  "metadata": {
    "colab": {
      "collapsed_sections": [],
      "name": "CHW2_98101769.ipynb",
      "provenance": []
    },
    "kernelspec": {
      "display_name": "Python 3",
      "name": "python3"
    },
    "language_info": {
      "name": "python"
    }
  },
  "nbformat": 4,
  "nbformat_minor": 0
}
